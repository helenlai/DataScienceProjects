{
 "cells": [
  {
   "cell_type": "code",
   "execution_count": 2,
   "metadata": {},
   "outputs": [],
   "source": [
    "import tarfile\n",
    "import json\n",
    "import numpy as np\n",
    "import pandas as pd\n",
    "import scipy\n",
    "from scipy.sparse import coo_matrix\n",
    "import scipy.sparse as sp\n",
    "import random\n",
    "import functools\n",
    "import operator\n",
    "import matplotlib.pyplot as plt\n",
    "import seaborn as sns"
   ]
  },
  {
   "cell_type": "code",
   "execution_count": 5,
   "metadata": {},
   "outputs": [],
   "source": [
    "#tar=tarfile.open(\"yelp_dataset.tar\")\n",
    "#tar.extractall()\n",
    "#tar.close()"
   ]
  },
  {
   "cell_type": "code",
   "execution_count": 2,
   "metadata": {},
   "outputs": [
    {
     "name": "stdout",
     "output_type": "stream",
     "text": [
      "3.29\n"
     ]
    }
   ],
   "source": [
    "#quering an entry for a specific user\n",
    "i=0\n",
    "for line in open(\"user.json\",encoding=\"utf-8\"):\n",
    "    line=json.loads(line)\n",
    "    if line[\"user_id\"]==\"zzltQbbtriSWWdNINMzJUw\":\n",
    "        print(line[\"average_stars\"])\n",
    "        break\n",
    "    \n"
   ]
  },
  {
   "cell_type": "code",
   "execution_count": 2,
   "metadata": {},
   "outputs": [],
   "source": [
    "user_json=[]\n",
    "for line in open(\"user.json\",encoding=\"utf-8\"):\n",
    "    user_json.append(json.loads(line))"
   ]
  },
  {
   "cell_type": "code",
   "execution_count": 3,
   "metadata": {},
   "outputs": [],
   "source": [
    "tip_json=[]\n",
    "for line in open(\"tip.json\",encoding=\"utf-8\"):\n",
    "    tip_json.append(json.loads(line))"
   ]
  },
  {
   "cell_type": "code",
   "execution_count": 4,
   "metadata": {},
   "outputs": [],
   "source": [
    "checkin_json=[]\n",
    "for line in open(\"checkin.json\",encoding=\"utf-8\"):\n",
    "    checkin_json.append(json.loads(line))\n"
   ]
  },
  {
   "cell_type": "code",
   "execution_count": 3,
   "metadata": {
    "scrolled": false
   },
   "outputs": [],
   "source": [
    "review_json=[]\n",
    "for line in open(\"review.json\",encoding=\"utf-8\"):\n",
    "    review_json.append(json.loads(line))"
   ]
  },
  {
   "cell_type": "code",
   "execution_count": 125,
   "metadata": {},
   "outputs": [],
   "source": [
    "business_json=[]\n",
    "for line in open(\"business.json\",encoding=\"utf-8\"):\n",
    "    business_json.append(json.loads(line))"
   ]
  },
  {
   "cell_type": "code",
   "execution_count": 126,
   "metadata": {},
   "outputs": [],
   "source": [
    "state=[]\n",
    "categories=[]\n",
    "business_id=[]\n",
    "avg_rating=[]\n",
    "for i in range(len(business_json)):\n",
    "    state.append(business_json[i][\"state\"])\n",
    "    categories.append(business_json[i][\"categories\"])\n",
    "    business_id.append(business_json[i][\"business_id\"])\n",
    "    avg_rating.append(business_json[i][\"stars\"])\n",
    "    \n",
    "business_df=pd.DataFrame({\"business_id\":business_id,\n",
    "                         \"categories\":categories,\n",
    "                         \"state\":state,\n",
    "                         \"avg_rating\":avg_rating})"
   ]
  },
  {
   "cell_type": "code",
   "execution_count": 6,
   "metadata": {},
   "outputs": [],
   "source": [
    "review_user=[]\n",
    "review_business=[]\n",
    "rating=[]\n",
    "date=[]\n",
    "for i in range (len(review_json)):\n",
    "    review_business.append(review_json[i]['business_id'])\n",
    "    review_user.append(review_json[i]['user_id'])\n",
    "    rating.append(review_json[i][\"stars\"])\n",
    "    date.append(review_json[i][\"date\"])\n",
    "\n",
    "review_df=pd.DataFrame({\"business_id\":review_business,\n",
    "                        \"user_id\":review_user,\n",
    "                        \"rating\":rating,\n",
    "                       \"date\":date})\n"
   ]
  },
  {
   "cell_type": "code",
   "execution_count": 7,
   "metadata": {},
   "outputs": [],
   "source": [
    "friend=[]\n",
    "fan=[]\n",
    "avg_star=[]\n",
    "u_id=[]\n",
    "for i in range(len(user_json)):\n",
    "    friend.append(user_json[i][\"friends\"])\n",
    "    fan.append(user_json[i][\"fans\"])\n",
    "    avg_star.append(user_json[i][\"average_stars\"])\n",
    "    u_id.append(user_json[i][\"user_id\"])\n",
    "\n",
    "user_df=pd.DataFrame({\"u_id\":u_id,\n",
    "                        \"friends\":friend,\n",
    "                        \"fans\":fan,\n",
    "                        \"avg_star\":avg_star})"
   ]
  },
  {
   "cell_type": "code",
   "execution_count": 8,
   "metadata": {},
   "outputs": [],
   "source": [
    "user_df.set_index(\"u_id\",inplace=True)"
   ]
  },
  {
   "cell_type": "code",
   "execution_count": 9,
   "metadata": {},
   "outputs": [
    {
     "data": {
      "text/plain": [
       "business_id    False\n",
       "user_id        False\n",
       "rating         False\n",
       "date           False\n",
       "dtype: bool"
      ]
     },
     "execution_count": 9,
     "metadata": {},
     "output_type": "execute_result"
    }
   ],
   "source": [
    "pd.isnull(review_df).any()"
   ]
  },
  {
   "cell_type": "code",
   "execution_count": 10,
   "metadata": {},
   "outputs": [
    {
     "data": {
      "text/plain": [
       "business_id    False\n",
       "categories      True\n",
       "state          False\n",
       "avg_rating     False\n",
       "dtype: bool"
      ]
     },
     "execution_count": 10,
     "metadata": {},
     "output_type": "execute_result"
    }
   ],
   "source": [
    "pd.isnull(business_df).any()"
   ]
  },
  {
   "cell_type": "code",
   "execution_count": 11,
   "metadata": {},
   "outputs": [
    {
     "data": {
      "text/plain": [
       "friends     False\n",
       "fans        False\n",
       "avg_star    False\n",
       "dtype: bool"
      ]
     },
     "execution_count": 11,
     "metadata": {},
     "output_type": "execute_result"
    }
   ],
   "source": [
    "pd.isnull(user_df).any()"
   ]
  },
  {
   "cell_type": "code",
   "execution_count": 12,
   "metadata": {},
   "outputs": [],
   "source": [
    "business_df.dropna(inplace=True)"
   ]
  },
  {
   "cell_type": "code",
   "execution_count": 13,
   "metadata": {},
   "outputs": [
    {
     "data": {
      "text/plain": [
       "business_id    False\n",
       "categories     False\n",
       "state          False\n",
       "avg_rating     False\n",
       "dtype: bool"
      ]
     },
     "execution_count": 13,
     "metadata": {},
     "output_type": "execute_result"
    }
   ],
   "source": [
    "pd.isnull(business_df).any()"
   ]
  },
  {
   "cell_type": "code",
   "execution_count": 14,
   "metadata": {},
   "outputs": [
    {
     "data": {
      "text/plain": [
       "59387"
      ]
     },
     "execution_count": 14,
     "metadata": {},
     "output_type": "execute_result"
    }
   ],
   "source": [
    "np.sum(business_df.categories.str.contains(\"Restaurant\",case=False))"
   ]
  },
  {
   "cell_type": "code",
   "execution_count": 17,
   "metadata": {},
   "outputs": [
    {
     "data": {
      "text/html": [
       "<div>\n",
       "<style scoped>\n",
       "    .dataframe tbody tr th:only-of-type {\n",
       "        vertical-align: middle;\n",
       "    }\n",
       "\n",
       "    .dataframe tbody tr th {\n",
       "        vertical-align: top;\n",
       "    }\n",
       "\n",
       "    .dataframe thead th {\n",
       "        text-align: right;\n",
       "    }\n",
       "</style>\n",
       "<table border=\"1\" class=\"dataframe\">\n",
       "  <thead>\n",
       "    <tr style=\"text-align: right;\">\n",
       "      <th></th>\n",
       "      <th>business_id</th>\n",
       "      <th>categories</th>\n",
       "      <th>avg_rating</th>\n",
       "    </tr>\n",
       "    <tr>\n",
       "      <th>state</th>\n",
       "      <th></th>\n",
       "      <th></th>\n",
       "      <th></th>\n",
       "    </tr>\n",
       "  </thead>\n",
       "  <tbody>\n",
       "    <tr>\n",
       "      <th>ON</th>\n",
       "      <td>14832</td>\n",
       "      <td>14832</td>\n",
       "      <td>14832</td>\n",
       "    </tr>\n",
       "    <tr>\n",
       "      <th>AZ</th>\n",
       "      <td>11473</td>\n",
       "      <td>11473</td>\n",
       "      <td>11473</td>\n",
       "    </tr>\n",
       "    <tr>\n",
       "      <th>NV</th>\n",
       "      <td>7788</td>\n",
       "      <td>7788</td>\n",
       "      <td>7788</td>\n",
       "    </tr>\n",
       "    <tr>\n",
       "      <th>QC</th>\n",
       "      <td>5622</td>\n",
       "      <td>5622</td>\n",
       "      <td>5622</td>\n",
       "    </tr>\n",
       "    <tr>\n",
       "      <th>OH</th>\n",
       "      <td>5522</td>\n",
       "      <td>5522</td>\n",
       "      <td>5522</td>\n",
       "    </tr>\n",
       "    <tr>\n",
       "      <th>NC</th>\n",
       "      <td>4327</td>\n",
       "      <td>4327</td>\n",
       "      <td>4327</td>\n",
       "    </tr>\n",
       "    <tr>\n",
       "      <th>PA</th>\n",
       "      <td>4002</td>\n",
       "      <td>4002</td>\n",
       "      <td>4002</td>\n",
       "    </tr>\n",
       "    <tr>\n",
       "      <th>AB</th>\n",
       "      <td>3035</td>\n",
       "      <td>3035</td>\n",
       "      <td>3035</td>\n",
       "    </tr>\n",
       "    <tr>\n",
       "      <th>WI</th>\n",
       "      <td>1703</td>\n",
       "      <td>1703</td>\n",
       "      <td>1703</td>\n",
       "    </tr>\n",
       "    <tr>\n",
       "      <th>IL</th>\n",
       "      <td>672</td>\n",
       "      <td>672</td>\n",
       "      <td>672</td>\n",
       "    </tr>\n",
       "  </tbody>\n",
       "</table>\n",
       "</div>"
      ],
      "text/plain": [
       "       business_id  categories  avg_rating\n",
       "state                                     \n",
       "ON           14832       14832       14832\n",
       "AZ           11473       11473       11473\n",
       "NV            7788        7788        7788\n",
       "QC            5622        5622        5622\n",
       "OH            5522        5522        5522\n",
       "NC            4327        4327        4327\n",
       "PA            4002        4002        4002\n",
       "AB            3035        3035        3035\n",
       "WI            1703        1703        1703\n",
       "IL             672         672         672"
      ]
     },
     "execution_count": 17,
     "metadata": {},
     "output_type": "execute_result"
    }
   ],
   "source": [
    "restaurant_mask=business_df.categories.str.contains(\"Restaurant\")\n",
    "restaurant_df=business_df[restaurant_mask]\n",
    "restaurant_df.groupby(\"state\").count().sort_values(\"business_id\",ascending=False).head(10)"
   ]
  },
  {
   "cell_type": "code",
   "execution_count": 18,
   "metadata": {},
   "outputs": [],
   "source": [
    "#canada=[\"ON\",\"QC\",\"AB\"]\n",
    "canada=[\"QC\"]"
   ]
  },
  {
   "cell_type": "code",
   "execution_count": 19,
   "metadata": {},
   "outputs": [],
   "source": [
    "canada_df=restaurant_df[restaurant_df.state.isin(canada)]\n",
    "canada_restaurant_id=canada_df.business_id\n",
    "canada_restaurant_review=review_df[review_df.business_id.isin(canada_restaurant_id)]\n"
   ]
  },
  {
   "cell_type": "code",
   "execution_count": 20,
   "metadata": {},
   "outputs": [],
   "source": [
    "active_mask=canada_restaurant_review.groupby(\"user_id\").count().rating>=5\n",
    "active_canadian_user_id=active_mask.index[active_mask]\n",
    "u_df_filtered=user_df[user_df.index.isin(active_canadian_user_id)]"
   ]
  },
  {
   "cell_type": "code",
   "execution_count": 21,
   "metadata": {},
   "outputs": [],
   "source": [
    "canada_restaurant_review_active=canada_restaurant_review[canada_restaurant_review.user_id.isin(active_canadian_user_id)]\n",
    "series=canada_restaurant_review_active[\"date\"].str.split(\"-\")\n",
    "years=[int(series.iloc[i][0]) for i in range(len(series))]"
   ]
  },
  {
   "cell_type": "code",
   "execution_count": 24,
   "metadata": {},
   "outputs": [
    {
     "data": {
      "text/plain": [
       "count    76970.000000\n",
       "mean      2015.213940\n",
       "std          2.197755\n",
       "min       2008.000000\n",
       "25%       2014.000000\n",
       "50%       2016.000000\n",
       "75%       2017.000000\n",
       "max       2018.000000\n",
       "dtype: float64"
      ]
     },
     "execution_count": 24,
     "metadata": {},
     "output_type": "execute_result"
    }
   ],
   "source": [
    "pd.Series(years).describe()"
   ]
  },
  {
   "cell_type": "code",
   "execution_count": 25,
   "metadata": {},
   "outputs": [
    {
     "name": "stderr",
     "output_type": "stream",
     "text": [
      "C:\\Users\\helen\\AppData\\Local\\Continuum\\anaconda3\\lib\\site-packages\\ipykernel_launcher.py:1: SettingWithCopyWarning: \n",
      "A value is trying to be set on a copy of a slice from a DataFrame.\n",
      "Try using .loc[row_indexer,col_indexer] = value instead\n",
      "\n",
      "See the caveats in the documentation: https://pandas.pydata.org/pandas-docs/stable/user_guide/indexing.html#returning-a-view-versus-a-copy\n",
      "  \"\"\"Entry point for launching an IPython kernel.\n"
     ]
    }
   ],
   "source": [
    "canada_restaurant_review_active[\"year\"]=years"
   ]
  },
  {
   "cell_type": "code",
   "execution_count": 27,
   "metadata": {},
   "outputs": [],
   "source": [
    "tr_df=canada_restaurant_review_active.copy()"
   ]
  },
  {
   "cell_type": "code",
   "execution_count": 29,
   "metadata": {},
   "outputs": [],
   "source": [
    "canada_restaurant_review_active.to_csv('full_df_QC.csv.gz'\n",
    "         , sep='|'\n",
    "         , header=True\n",
    "         , index=False\n",
    "         , chunksize=100000\n",
    "         , compression='gzip'\n",
    "         , encoding='utf-8')"
   ]
  },
  {
   "cell_type": "code",
   "execution_count": 49,
   "metadata": {},
   "outputs": [],
   "source": [
    "review_df=pd.read_csv('full_df_QC.csv.gz',compression='gzip',delimiter=\"|\")"
   ]
  },
  {
   "cell_type": "markdown",
   "metadata": {},
   "source": [
    "### Train, test and validation set splitting"
   ]
  },
  {
   "cell_type": "markdown",
   "metadata": {},
   "source": [
    "#### For the easier generalisation task:"
   ]
  },
  {
   "cell_type": "markdown",
   "metadata": {},
   "source": [
    "#### Dropping users that only have entries in the test and validation set"
   ]
  },
  {
   "cell_type": "code",
   "execution_count": 50,
   "metadata": {},
   "outputs": [
    {
     "data": {
      "text/html": [
       "<div>\n",
       "<style scoped>\n",
       "    .dataframe tbody tr th:only-of-type {\n",
       "        vertical-align: middle;\n",
       "    }\n",
       "\n",
       "    .dataframe tbody tr th {\n",
       "        vertical-align: top;\n",
       "    }\n",
       "\n",
       "    .dataframe thead th {\n",
       "        text-align: right;\n",
       "    }\n",
       "</style>\n",
       "<table border=\"1\" class=\"dataframe\">\n",
       "  <thead>\n",
       "    <tr style=\"text-align: right;\">\n",
       "      <th></th>\n",
       "      <th></th>\n",
       "      <th>rating</th>\n",
       "      <th>date</th>\n",
       "      <th>year</th>\n",
       "    </tr>\n",
       "    <tr>\n",
       "      <th>user_id</th>\n",
       "      <th>business_id</th>\n",
       "      <th></th>\n",
       "      <th></th>\n",
       "      <th></th>\n",
       "    </tr>\n",
       "  </thead>\n",
       "  <tbody>\n",
       "    <tr>\n",
       "      <th>-5ohKzWWOzAG1M1OtcoPgQ</th>\n",
       "      <th>ahylp2gGtSgTMSQBvKAq9g</th>\n",
       "      <td>5</td>\n",
       "      <td>5</td>\n",
       "      <td>5</td>\n",
       "    </tr>\n",
       "    <tr>\n",
       "      <th>xI0kgixpD641fh6OprijcA</th>\n",
       "      <th>cjOTiM029haRXhfUAZrZ7A</th>\n",
       "      <td>5</td>\n",
       "      <td>5</td>\n",
       "      <td>5</td>\n",
       "    </tr>\n",
       "    <tr>\n",
       "      <th>oIgnbSgc6YpYjM3dZKH0Ww</th>\n",
       "      <th>wqsZzIM79Q--QP_lSRcPyg</th>\n",
       "      <td>4</td>\n",
       "      <td>4</td>\n",
       "      <td>4</td>\n",
       "    </tr>\n",
       "    <tr>\n",
       "      <th>U95wccXN_J8JwA5Ktlu8tw</th>\n",
       "      <th>u-SvRRAfYgpbXZRfQgcTzA</th>\n",
       "      <td>4</td>\n",
       "      <td>4</td>\n",
       "      <td>4</td>\n",
       "    </tr>\n",
       "    <tr>\n",
       "      <th>Zoec9wehLFa8CV1JnCCVug</th>\n",
       "      <th>lSPeT8VY7ytY9BEe1wWcLA</th>\n",
       "      <td>4</td>\n",
       "      <td>4</td>\n",
       "      <td>4</td>\n",
       "    </tr>\n",
       "  </tbody>\n",
       "</table>\n",
       "</div>"
      ],
      "text/plain": [
       "                                               rating  date  year\n",
       "user_id                business_id                               \n",
       "-5ohKzWWOzAG1M1OtcoPgQ ahylp2gGtSgTMSQBvKAq9g       5     5     5\n",
       "xI0kgixpD641fh6OprijcA cjOTiM029haRXhfUAZrZ7A       5     5     5\n",
       "oIgnbSgc6YpYjM3dZKH0Ww wqsZzIM79Q--QP_lSRcPyg       4     4     4\n",
       "U95wccXN_J8JwA5Ktlu8tw u-SvRRAfYgpbXZRfQgcTzA       4     4     4\n",
       "Zoec9wehLFa8CV1JnCCVug lSPeT8VY7ytY9BEe1wWcLA       4     4     4"
      ]
     },
     "execution_count": 50,
     "metadata": {},
     "output_type": "execute_result"
    }
   ],
   "source": [
    "tr_df=review_df.copy()\n",
    "#Checking if the same user has rated the same business multiple times\n",
    "tr_df.groupby([\"user_id\",\"business_id\"]).count().sort_values(by=\"rating\",ascending=False).head()"
   ]
  },
  {
   "cell_type": "code",
   "execution_count": 51,
   "metadata": {},
   "outputs": [],
   "source": [
    "#if the user has rated the same restaurant multiple times, its average rating is taken \n",
    "tr_df=tr_df.groupby([\"user_id\",\"business_id\"]).mean()\n",
    "tr_df.reset_index(inplace=True)\n",
    "tr_df[\"year\"]=tr_df.year.astype(int)"
   ]
  },
  {
   "cell_type": "code",
   "execution_count": 52,
   "metadata": {},
   "outputs": [
    {
     "data": {
      "text/html": [
       "<div>\n",
       "<style scoped>\n",
       "    .dataframe tbody tr th:only-of-type {\n",
       "        vertical-align: middle;\n",
       "    }\n",
       "\n",
       "    .dataframe tbody tr th {\n",
       "        vertical-align: top;\n",
       "    }\n",
       "\n",
       "    .dataframe thead th {\n",
       "        text-align: right;\n",
       "    }\n",
       "</style>\n",
       "<table border=\"1\" class=\"dataframe\">\n",
       "  <thead>\n",
       "    <tr style=\"text-align: right;\">\n",
       "      <th></th>\n",
       "      <th>user_id</th>\n",
       "      <th>business_id</th>\n",
       "      <th>rating</th>\n",
       "      <th>year</th>\n",
       "    </tr>\n",
       "  </thead>\n",
       "  <tbody>\n",
       "    <tr>\n",
       "      <th>0</th>\n",
       "      <td>--NIc98RMssgy0mSZL3vpA</td>\n",
       "      <td>-Mz3M0g6iFZczs6a7ddf5g</td>\n",
       "      <td>5.0</td>\n",
       "      <td>2016</td>\n",
       "    </tr>\n",
       "    <tr>\n",
       "      <th>1</th>\n",
       "      <td>--NIc98RMssgy0mSZL3vpA</td>\n",
       "      <td>5T6kFKFycym_GkhgOiysIw</td>\n",
       "      <td>4.0</td>\n",
       "      <td>2017</td>\n",
       "    </tr>\n",
       "    <tr>\n",
       "      <th>2</th>\n",
       "      <td>--NIc98RMssgy0mSZL3vpA</td>\n",
       "      <td>7Ug8zCmY6iDTewxWqeYQ2g</td>\n",
       "      <td>5.0</td>\n",
       "      <td>2016</td>\n",
       "    </tr>\n",
       "    <tr>\n",
       "      <th>3</th>\n",
       "      <td>--NIc98RMssgy0mSZL3vpA</td>\n",
       "      <td>QeFsIMcIFIJcOrpthYL8jg</td>\n",
       "      <td>4.0</td>\n",
       "      <td>2018</td>\n",
       "    </tr>\n",
       "    <tr>\n",
       "      <th>4</th>\n",
       "      <td>--NIc98RMssgy0mSZL3vpA</td>\n",
       "      <td>R8TSCE3fqfDBLAx52jGGgA</td>\n",
       "      <td>4.0</td>\n",
       "      <td>2016</td>\n",
       "    </tr>\n",
       "    <tr>\n",
       "      <th>...</th>\n",
       "      <td>...</td>\n",
       "      <td>...</td>\n",
       "      <td>...</td>\n",
       "      <td>...</td>\n",
       "    </tr>\n",
       "    <tr>\n",
       "      <th>74907</th>\n",
       "      <td>zznMmC74DNBcBG62gj3guA</td>\n",
       "      <td>ILqSwhiIM3ZTtViybcNdRw</td>\n",
       "      <td>4.0</td>\n",
       "      <td>2016</td>\n",
       "    </tr>\n",
       "    <tr>\n",
       "      <th>74908</th>\n",
       "      <td>zznMmC74DNBcBG62gj3guA</td>\n",
       "      <td>NyaCUU3KwnXhvKqBLMrZbg</td>\n",
       "      <td>4.0</td>\n",
       "      <td>2016</td>\n",
       "    </tr>\n",
       "    <tr>\n",
       "      <th>74909</th>\n",
       "      <td>zznMmC74DNBcBG62gj3guA</td>\n",
       "      <td>X-sqtBx78QDbX8kVbqF-dg</td>\n",
       "      <td>4.0</td>\n",
       "      <td>2016</td>\n",
       "    </tr>\n",
       "    <tr>\n",
       "      <th>74910</th>\n",
       "      <td>zznMmC74DNBcBG62gj3guA</td>\n",
       "      <td>aOaRYBPVrQFSvE3ovl-LEw</td>\n",
       "      <td>3.0</td>\n",
       "      <td>2016</td>\n",
       "    </tr>\n",
       "    <tr>\n",
       "      <th>74911</th>\n",
       "      <td>zznMmC74DNBcBG62gj3guA</td>\n",
       "      <td>ySFCgNj9n36-bHA40R_nBA</td>\n",
       "      <td>2.0</td>\n",
       "      <td>2016</td>\n",
       "    </tr>\n",
       "  </tbody>\n",
       "</table>\n",
       "<p>74912 rows × 4 columns</p>\n",
       "</div>"
      ],
      "text/plain": [
       "                      user_id             business_id  rating  year\n",
       "0      --NIc98RMssgy0mSZL3vpA  -Mz3M0g6iFZczs6a7ddf5g     5.0  2016\n",
       "1      --NIc98RMssgy0mSZL3vpA  5T6kFKFycym_GkhgOiysIw     4.0  2017\n",
       "2      --NIc98RMssgy0mSZL3vpA  7Ug8zCmY6iDTewxWqeYQ2g     5.0  2016\n",
       "3      --NIc98RMssgy0mSZL3vpA  QeFsIMcIFIJcOrpthYL8jg     4.0  2018\n",
       "4      --NIc98RMssgy0mSZL3vpA  R8TSCE3fqfDBLAx52jGGgA     4.0  2016\n",
       "...                       ...                     ...     ...   ...\n",
       "74907  zznMmC74DNBcBG62gj3guA  ILqSwhiIM3ZTtViybcNdRw     4.0  2016\n",
       "74908  zznMmC74DNBcBG62gj3guA  NyaCUU3KwnXhvKqBLMrZbg     4.0  2016\n",
       "74909  zznMmC74DNBcBG62gj3guA  X-sqtBx78QDbX8kVbqF-dg     4.0  2016\n",
       "74910  zznMmC74DNBcBG62gj3guA  aOaRYBPVrQFSvE3ovl-LEw     3.0  2016\n",
       "74911  zznMmC74DNBcBG62gj3guA  ySFCgNj9n36-bHA40R_nBA     2.0  2016\n",
       "\n",
       "[74912 rows x 4 columns]"
      ]
     },
     "execution_count": 52,
     "metadata": {},
     "output_type": "execute_result"
    }
   ],
   "source": [
    "tr_df"
   ]
  },
  {
   "cell_type": "code",
   "execution_count": 59,
   "metadata": {},
   "outputs": [],
   "source": [
    "full_df=tr_df.copy()"
   ]
  },
  {
   "cell_type": "code",
   "execution_count": 60,
   "metadata": {
    "scrolled": true
   },
   "outputs": [
    {
     "data": {
      "text/html": [
       "<div>\n",
       "<style scoped>\n",
       "    .dataframe tbody tr th:only-of-type {\n",
       "        vertical-align: middle;\n",
       "    }\n",
       "\n",
       "    .dataframe tbody tr th {\n",
       "        vertical-align: top;\n",
       "    }\n",
       "\n",
       "    .dataframe thead th {\n",
       "        text-align: right;\n",
       "    }\n",
       "</style>\n",
       "<table border=\"1\" class=\"dataframe\">\n",
       "  <thead>\n",
       "    <tr style=\"text-align: right;\">\n",
       "      <th></th>\n",
       "      <th></th>\n",
       "      <th>rating</th>\n",
       "      <th>year</th>\n",
       "    </tr>\n",
       "    <tr>\n",
       "      <th>user_id</th>\n",
       "      <th>business_id</th>\n",
       "      <th></th>\n",
       "      <th></th>\n",
       "    </tr>\n",
       "  </thead>\n",
       "  <tbody>\n",
       "    <tr>\n",
       "      <th>--NIc98RMssgy0mSZL3vpA</th>\n",
       "      <th>-Mz3M0g6iFZczs6a7ddf5g</th>\n",
       "      <td>1</td>\n",
       "      <td>1</td>\n",
       "    </tr>\n",
       "    <tr>\n",
       "      <th>drmTj6FQRWgek_VooTDqZg</th>\n",
       "      <th>IlQro_wCABlFfDZjA0po5g</th>\n",
       "      <td>1</td>\n",
       "      <td>1</td>\n",
       "    </tr>\n",
       "    <tr>\n",
       "      <th rowspan=\"3\" valign=\"top\">du9vlM6qHKrvNYu3dKfj7Q</th>\n",
       "      <th>bYPahCt2MBgEqSahPS8GJQ</th>\n",
       "      <td>1</td>\n",
       "      <td>1</td>\n",
       "    </tr>\n",
       "    <tr>\n",
       "      <th>RegFo3YBn2AyKHFZ61SYfQ</th>\n",
       "      <td>1</td>\n",
       "      <td>1</td>\n",
       "    </tr>\n",
       "    <tr>\n",
       "      <th>CnQWcO6qz5IPtpWZhoKfmQ</th>\n",
       "      <td>1</td>\n",
       "      <td>1</td>\n",
       "    </tr>\n",
       "  </tbody>\n",
       "</table>\n",
       "</div>"
      ],
      "text/plain": [
       "                                               rating  year\n",
       "user_id                business_id                         \n",
       "--NIc98RMssgy0mSZL3vpA -Mz3M0g6iFZczs6a7ddf5g       1     1\n",
       "drmTj6FQRWgek_VooTDqZg IlQro_wCABlFfDZjA0po5g       1     1\n",
       "du9vlM6qHKrvNYu3dKfj7Q bYPahCt2MBgEqSahPS8GJQ       1     1\n",
       "                       RegFo3YBn2AyKHFZ61SYfQ       1     1\n",
       "                       CnQWcO6qz5IPtpWZhoKfmQ       1     1"
      ]
     },
     "execution_count": 60,
     "metadata": {},
     "output_type": "execute_result"
    }
   ],
   "source": [
    "tr_df.groupby([\"user_id\",\"business_id\"]).count().sort_values(ascending=False,by=\"rating\").head()"
   ]
  },
  {
   "cell_type": "code",
   "execution_count": 62,
   "metadata": {},
   "outputs": [],
   "source": [
    "#Creating the user-item interaction matrix with all observed entries included\n",
    "R_full=pd.pivot_table(full_df,values=\"rating\",index=[\"user_id\"],columns=[\"business_id\"])"
   ]
  },
  {
   "cell_type": "code",
   "execution_count": 63,
   "metadata": {},
   "outputs": [],
   "source": [
    "#Creating the user-item interaction matrix with only the training entries \n",
    "R_tr=pd.pivot_table(tr_df,values=\"rating\",index=[\"user_id\"],columns=[\"business_id\"])\n",
    "assert R_full.shape==R_tr.shape"
   ]
  },
  {
   "cell_type": "code",
   "execution_count": 65,
   "metadata": {},
   "outputs": [],
   "source": [
    "def df_to_sparse(df):\n",
    "    df_val=df.values\n",
    "    df_val[np.isnan(df_val)]=0\n",
    "    assert np.isnan(df_val).sum()==0\n",
    "    coo_mat=sp.coo_matrix(df_val)\n",
    "    csr_mat=coo_mat.tocsr()\n",
    "    return coo_mat, csr_mat"
   ]
  },
  {
   "cell_type": "code",
   "execution_count": 70,
   "metadata": {},
   "outputs": [],
   "source": [
    "tr_coo,tr_csr=df_to_sparse(R_tr)\n",
    "full_coo,full_csr=df_to_sparse(R_full)"
   ]
  },
  {
   "cell_type": "code",
   "execution_count": 71,
   "metadata": {},
   "outputs": [],
   "source": [
    "full_mat=full_coo.todense()"
   ]
  },
  {
   "cell_type": "code",
   "execution_count": 74,
   "metadata": {},
   "outputs": [],
   "source": [
    "val_mat=np.zeros(full_mat.shape)\n",
    "test_mat=np.zeros(full_mat.shape)\n",
    "train_mat=np.array(full_mat)"
   ]
  },
  {
   "cell_type": "code",
   "execution_count": 75,
   "metadata": {},
   "outputs": [],
   "source": [
    "for u in range(train_mat.shape[0]):\n",
    "    entries_u=train_mat[u,:][train_mat[u,:]!=0]\n",
    "    len_u=entries_u.shape[0]\n",
    "    item_idx_u=np.arange(len_u)\n",
    "    np.random.shuffle(item_idx_u)\n",
    "    val_len=test_len=int(round(len_u*0.1,0))\n",
    "    val_idx_u=item_idx_u[:val_len]\n",
    "    test_idx_u=item_idx_u[val_len:val_len+test_len]\n",
    "    \n",
    "    val_entries=val_mat[u][train_mat[u,:]!=0]\n",
    "    test_entries=test_mat[u][train_mat[u,:]!=0]\n",
    "    val_entries[val_idx_u]=entries_u[val_idx_u]\n",
    "    test_entries[test_idx_u]=entries_u[test_idx_u]\n",
    "    val_mat[u][train_mat[u,:]!=0]=val_entries\n",
    "    test_mat[u][train_mat[u,:]!=0]=test_entries\n",
    "    entries_u[test_idx_u]=0\n",
    "    entries_u[val_idx_u]=0\n",
    "    train_mat[u][train_mat[u,:]!=0]=entries_u"
   ]
  },
  {
   "cell_type": "code",
   "execution_count": 79,
   "metadata": {},
   "outputs": [
    {
     "data": {
      "text/plain": [
       "<matplotlib.axes._subplots.AxesSubplot at 0x19199c61fd0>"
      ]
     },
     "execution_count": 79,
     "metadata": {},
     "output_type": "execute_result"
    },
    {
     "data": {
      "image/png": "[encoded data removed]",
      "text/plain": [
       "<Figure size 432x288 with 1 Axes>"
      ]
     },
     "metadata": {
      "needs_background": "light"
     },
     "output_type": "display_data"
    }
   ],
   "source": [
    "import seaborn as sns\n",
    "sns.distplot(binarise_mat(test_mat[test_mat!=0]))"
   ]
  },
  {
   "cell_type": "code",
   "execution_count": 86,
   "metadata": {},
   "outputs": [],
   "source": [
    "assert val_mat[val_mat!=0].shape==test_mat[test_mat!=0].shape"
   ]
  },
  {
   "cell_type": "code",
   "execution_count": 127,
   "metadata": {},
   "outputs": [],
   "source": [
    "val_bool=val_mat!=0\n",
    "test_bool=test_mat!=0\n",
    "assert train_mat[val_bool].sum()==0\n",
    "assert train_mat[test_bool].sum()==0 \n",
    "assert test_mat[val_bool].sum()==0\n",
    "val_entries=val_mat[val_bool]\n",
    "test_entries=test_mat[test_bool]"
   ]
  },
  {
   "cell_type": "code",
   "execution_count": 128,
   "metadata": {},
   "outputs": [],
   "source": [
    "#Creating the one-hot encoded item category matrix \n",
    "business_id_included=tr_df.groupby(\"business_id\").count().index\n",
    "assert business_df.business_id.isin(business_id_included).sum()==len(business_id_included)\n",
    "business_bool=business_df.business_id.isin(business_id_included)\n",
    "business_cat=[]\n",
    "business_included_df=business_df[business_bool]\n",
    "for i in range(business_included_df.shape[0]):\n",
    "    business_cat.append(business_included_df.categories.iloc[i].split(','))\n",
    "business_cat_nested=business_cat.copy()\n",
    "business_cat=functools.reduce(operator.iconcat,business_cat, [])\n",
    "business_list=list(set(business_cat))\n",
    "item_bow=np.zeros((len(business_cat_nested),len(business_list)))\n",
    "for i in range(len(business_cat_nested)):\n",
    "    item_bow[i]=np.array(pd.Series(business_list).isin(pd.Series(business_cat_nested[i])))*1"
   ]
  },
  {
   "cell_type": "code",
   "execution_count": 132,
   "metadata": {},
   "outputs": [],
   "source": [
    "np.save(\"item_bow.npy\",item_bow)"
   ]
  },
  {
   "cell_type": "code",
   "execution_count": 89,
   "metadata": {},
   "outputs": [],
   "source": [
    "sp.save_npz(\"full_coo.npz\",full_coo)"
   ]
  },
  {
   "cell_type": "code",
   "execution_count": 90,
   "metadata": {},
   "outputs": [],
   "source": [
    "sp.save_npz(\"val_bool_easy.npz\",sp.coo_matrix(val_bool))\n",
    "sp.save_npz(\"test_bool_easy.npz\",sp.coo_matrix(test_bool))\n",
    "sp.save_npz(\"val_entries_explicit_easy.npz\",sp.coo_matrix(val_entries))\n",
    "sp.save_npz(\"test_entries_explicit_easy.npz\",sp.coo_matrix(test_entries))"
   ]
  },
  {
   "cell_type": "code",
   "execution_count": 351,
   "metadata": {},
   "outputs": [],
   "source": [
    "tr_mat[test_bool]=0\n",
    "tr_mat[val_bool]=0"
   ]
  },
  {
   "cell_type": "code",
   "execution_count": 91,
   "metadata": {},
   "outputs": [],
   "source": [
    "sp.save_npz(\"tr_explicit_nosampling_easy.npz\",sp.coo_matrix(train_mat))"
   ]
  },
  {
   "cell_type": "code",
   "execution_count": 290,
   "metadata": {},
   "outputs": [],
   "source": [
    "def binarise_mat(mat):\n",
    "        bin_mat=np.zeros_like(mat)\n",
    "        bin_mat[mat>=4]=1\n",
    "        bin_mat[mat<4]=0\n",
    "        assert bin_mat[mat>=4].all()==1\n",
    "        assert bin_mat[mat<4].all()==0\n",
    "        return bin_mat"
   ]
  },
  {
   "cell_type": "code",
   "execution_count": 92,
   "metadata": {},
   "outputs": [],
   "source": [
    "tr_bin=binarise_mat(train_mat)\n",
    "val_entries_bin=binarise_mat(val_entries)\n",
    "test_entries_bin=binarise_mat(test_entries)"
   ]
  },
  {
   "cell_type": "code",
   "execution_count": 134,
   "metadata": {},
   "outputs": [
    {
     "data": {
      "text/plain": [
       "<matplotlib.axes._subplots.AxesSubplot at 0x192c7d22390>"
      ]
     },
     "execution_count": 134,
     "metadata": {},
     "output_type": "execute_result"
    },
    {
     "data": {
      "image/png": "[encoded data removed]",
      "text/plain": [
       "<Figure size 432x288 with 1 Axes>"
      ]
     },
     "metadata": {
      "needs_background": "light"
     },
     "output_type": "display_data"
    }
   ],
   "source": [
    "sns.distplot(train_mat[train_mat!=0])"
   ]
  },
  {
   "cell_type": "code",
   "execution_count": 93,
   "metadata": {},
   "outputs": [],
   "source": [
    "sp.save_npz(\"tr_implicit_nosampling_easy.npz\",sp.coo_matrix(tr_bin))"
   ]
  },
  {
   "cell_type": "code",
   "execution_count": 94,
   "metadata": {},
   "outputs": [],
   "source": [
    "sp.save_npz(\"val_entries_implicit_easy.npz\",sp.coo_matrix(val_entries_bin))\n",
    "sp.save_npz(\"test_entries_implicit_easy.npz\",sp.coo_matrix(test_entries_bin))\n",
    "sp.save_npz(\"known_mask_nosampling_easy.npz\",sp.coo_matrix(train_mat!=0))"
   ]
  },
  {
   "cell_type": "code",
   "execution_count": 95,
   "metadata": {},
   "outputs": [],
   "source": [
    "train_data=sp.load_npz(\"tr_implicit_nosampling_easy.npz\").todense()\n",
    "known_mask=sp.load_npz(\"known_mask_nosampling_easy.npz\").todense()\n",
    "val_entries=sp.load_npz(\"val_entries_implicit_easy.npz\").todense()\n",
    "test_entries=sp.load_npz(\"test_entries_implicit_easy.npz\").todense()\n",
    "test_bool=sp.load_npz(\"test_bool_easy.npz\").todense()\n",
    "val_bool=sp.load_npz(\"val_bool_easy.npz\").todense()"
   ]
  },
  {
   "cell_type": "code",
   "execution_count": 96,
   "metadata": {},
   "outputs": [
    {
     "data": {
      "text/plain": [
       "<matplotlib.axes._subplots.AxesSubplot at 0x19199cc8f98>"
      ]
     },
     "execution_count": 96,
     "metadata": {},
     "output_type": "execute_result"
    },
    {
     "data": {
      "image/png": "[encoded data removed]",
      "text/plain": [
       "<Figure size 432x288 with 1 Axes>"
      ]
     },
     "metadata": {
      "needs_background": "light"
     },
     "output_type": "display_data"
    }
   ],
   "source": [
    "sns.distplot(test_entries)"
   ]
  },
  {
   "cell_type": "code",
   "execution_count": 97,
   "metadata": {},
   "outputs": [
    {
     "data": {
      "text/plain": [
       "<matplotlib.axes._subplots.AxesSubplot at 0x19199f58f60>"
      ]
     },
     "execution_count": 97,
     "metadata": {},
     "output_type": "execute_result"
    },
    {
     "data": {
      "image/png": "[encoded data removed]",
      "text/plain": [
       "<Figure size 432x288 with 1 Axes>"
      ]
     },
     "metadata": {
      "needs_background": "light"
     },
     "output_type": "display_data"
    }
   ],
   "source": [
    "sns.distplot(train_data[known_mask])"
   ]
  },
  {
   "cell_type": "markdown",
   "metadata": {},
   "source": [
    "#### For the harder generalisation task"
   ]
  },
  {
   "cell_type": "code",
   "execution_count": 98,
   "metadata": {},
   "outputs": [],
   "source": [
    "full_coo=sp.load_npz(\"full_coo.npz\")\n",
    "full_df=full_coo.todense()"
   ]
  },
  {
   "cell_type": "code",
   "execution_count": 99,
   "metadata": {},
   "outputs": [
    {
     "data": {
      "text/plain": [
       "(5336, 5524)"
      ]
     },
     "execution_count": 99,
     "metadata": {},
     "output_type": "execute_result"
    }
   ],
   "source": [
    "full_df.shape"
   ]
  },
  {
   "cell_type": "code",
   "execution_count": 100,
   "metadata": {},
   "outputs": [],
   "source": [
    "no_users=full_coo.shape[0]"
   ]
  },
  {
   "cell_type": "code",
   "execution_count": 101,
   "metadata": {},
   "outputs": [],
   "source": [
    "u_idx=list(range(no_users))"
   ]
  },
  {
   "cell_type": "code",
   "execution_count": 102,
   "metadata": {},
   "outputs": [],
   "source": [
    "train_percent=0.8\n",
    "val_percent=0.1\n",
    "no_train=int(no_users*train_percent)\n",
    "no_val=int(no_users*val_percent)"
   ]
  },
  {
   "cell_type": "code",
   "execution_count": 103,
   "metadata": {},
   "outputs": [],
   "source": [
    "np.random.shuffle(u_idx)"
   ]
  },
  {
   "cell_type": "code",
   "execution_count": 104,
   "metadata": {},
   "outputs": [],
   "source": [
    "tr_df_hard=full_df[u_idx][:no_train]\n",
    "val_df_hard=full_df[u_idx][no_train:no_train+no_val]\n",
    "test_df_hard=full_df[u_idx][no_train+no_val:]"
   ]
  },
  {
   "cell_type": "code",
   "execution_count": 107,
   "metadata": {},
   "outputs": [
    {
     "data": {
      "text/plain": [
       "(4268, 5524)"
      ]
     },
     "execution_count": 107,
     "metadata": {},
     "output_type": "execute_result"
    }
   ],
   "source": [
    "tr_df_hard.shape"
   ]
  },
  {
   "cell_type": "code",
   "execution_count": 108,
   "metadata": {},
   "outputs": [],
   "source": [
    "known_mask_hard=tr_df_hard!=0\n",
    "val_bool_hard=val_df_hard!=0\n",
    "test_bool_hard=test_df_hard!=0"
   ]
  },
  {
   "cell_type": "code",
   "execution_count": 23,
   "metadata": {},
   "outputs": [],
   "source": [
    "def create_set(mat,full_known_bool,fold_in=True):\n",
    "    \n",
    "    mat_to_return=np.array(mat.copy())\n",
    "    entries=mat_to_return[full_known_bool]\n",
    "    a=entries.copy()\n",
    "    no_entries=len(a)\n",
    "    sampled_idx=random.sample(list(range(no_entries)),k=int(no_entries*0.8))\n",
    "    fold_in_bool=np.isin(list(range(no_entries)),sampled_idx)\n",
    "    assert (fold_in_bool).sum()==int(no_entries*0.8)\n",
    "\n",
    "   \n",
    "    if fold_in==True:\n",
    "        a[~fold_in_bool]=0\n",
    "        percent=0.8\n",
    "       \n",
    "        assert a.shape==entries.shape\n",
    "    else:\n",
    "        percent=0.2\n",
    "        a[fold_in_bool]=0\n",
    "     \n",
    "        \n",
    "    mat_to_return[full_known_bool]=a\n",
    "   \n",
    "    return mat_to_return\n",
    "    "
   ]
  },
  {
   "cell_type": "code",
   "execution_count": 109,
   "metadata": {},
   "outputs": [],
   "source": [
    "val_fold_in=create_set(val_df_hard,val_bool_hard,fold_in=True)\n",
    "val_report=create_set(val_df_hard,val_bool_hard,fold_in=False)"
   ]
  },
  {
   "cell_type": "code",
   "execution_count": 110,
   "metadata": {},
   "outputs": [
    {
     "data": {
      "text/plain": [
       "<matplotlib.axes._subplots.AxesSubplot at 0x19199fe5eb8>"
      ]
     },
     "execution_count": 110,
     "metadata": {},
     "output_type": "execute_result"
    },
    {
     "data": {
      "image/png": "[encoded data removed]",
      "text/plain": [
       "<Figure size 432x288 with 1 Axes>"
      ]
     },
     "metadata": {
      "needs_background": "light"
     },
     "output_type": "display_data"
    }
   ],
   "source": [
    "sns.distplot(binarise_mat(test_fold_in[test_fold_in!=0]))"
   ]
  },
  {
   "cell_type": "code",
   "execution_count": 111,
   "metadata": {},
   "outputs": [
    {
     "data": {
      "text/plain": [
       "<matplotlib.axes._subplots.AxesSubplot at 0x19197bf55c0>"
      ]
     },
     "execution_count": 111,
     "metadata": {},
     "output_type": "execute_result"
    },
    {
     "data": {
      "image/png": "[encoded data removed]",
      "text/plain": [
       "<Figure size 432x288 with 1 Axes>"
      ]
     },
     "metadata": {
      "needs_background": "light"
     },
     "output_type": "display_data"
    }
   ],
   "source": [
    "sns.distplot(binarise_mat(test_report[test_report!=0]))"
   ]
  },
  {
   "cell_type": "code",
   "execution_count": 112,
   "metadata": {
    "scrolled": true
   },
   "outputs": [],
   "source": [
    "test_fold_in=create_set(test_df_hard,test_bool_hard,fold_in=True)\n",
    "test_report=create_set(test_df_hard,test_bool_hard,fold_in=False)"
   ]
  },
  {
   "cell_type": "code",
   "execution_count": 113,
   "metadata": {},
   "outputs": [],
   "source": [
    "sp.save_npz(\"val_fold_in_implicit.npz\",sp.coo_matrix(binarise_mat(val_fold_in)))\n",
    "sp.save_npz(\"test_fold_in_implicit.npz\",sp.coo_matrix(binarise_mat(test_fold_in)))\n",
    "sp.save_npz(\"val_report_implicit.npz\",sp.coo_matrix(binarise_mat(val_report)))\n",
    "sp.save_npz(\"test_report_implicit.npz\",sp.coo_matrix(binarise_mat(test_report)))\n",
    "sp.save_npz(\"val_fold_in_bool.npz\",sp.coo_matrix(val_fold_in!=0))\n",
    "sp.save_npz(\"val_report_bool.npz\",sp.coo_matrix(val_report!=0))\n",
    "sp.save_npz(\"test_fold_in_bool.npz\",sp.coo_matrix(test_fold_in!=0))\n",
    "sp.save_npz(\"test_report_bool.npz\",sp.coo_matrix(test_report!=0))\n",
    "sp.save_npz(\"test_report_bool.npz\",sp.coo_matrix(test_report!=0))"
   ]
  },
  {
   "cell_type": "code",
   "execution_count": 114,
   "metadata": {},
   "outputs": [],
   "source": [
    "sp.save_npz(\"tr_explicit_nosampling_hard.npz\",sp.coo_matrix(tr_df_hard))\n",
    "sp.save_npz(\"tr_implicit_nosampling_hard.npz\",sp.coo_matrix(binarise_mat(tr_df_hard)))\n",
    "sp.save_npz(\"known_mask_nosampling_hard.npz\",sp.coo_matrix(known_mask_hard))"
   ]
  },
  {
   "cell_type": "code",
   "execution_count": 117,
   "metadata": {},
   "outputs": [
    {
     "data": {
      "text/plain": [
       "(4268, 5524)"
      ]
     },
     "execution_count": 117,
     "metadata": {},
     "output_type": "execute_result"
    }
   ],
   "source": [
    "sp.load_npz(\"tr_implicit_nosampling_hard.npz\").todense().shape"
   ]
  },
  {
   "cell_type": "markdown",
   "metadata": {},
   "source": [
    "### Sampling unreported ratings for the training set"
   ]
  },
  {
   "cell_type": "code",
   "execution_count": 4,
   "metadata": {},
   "outputs": [],
   "source": [
    "def mat_to_array(mat,axis):\n",
    "    return np.array(np.squeeze(mat,axis=axis))[0]"
   ]
  },
  {
   "cell_type": "code",
   "execution_count": 139,
   "metadata": {},
   "outputs": [],
   "source": [
    "def sampling_unreported(tr_mat,val_bool,test_bool,hard_gen):\n",
    "    #Counting the number of rating per user\n",
    "    rating_count_user=np.sum(tr_mat!=0,axis=1)\n",
    "    #Counting the number of rating per item\n",
    "    rating_count_item=np.sum(tr_mat!=0,axis=0)\n",
    "    #Computing mean activity level across users \n",
    "    mean_count_user=round(rating_count_user.mean(),0)\n",
    "    #Computing mean rating for each user\n",
    "    users_mean=np.sum(tr_mat,axis=1)/rating_count_user\n",
    "    users_mean=mat_to_array(users_mean,axis=1)\n",
    "    \n",
    "    #Computing mean rating for each item\n",
    "    item_mean=np.sum(tr_mat,axis=0)/rating_count_item\n",
    "    item_mean[np.isnan(item_mean)]=0\n",
    "    item_mean=mat_to_array(item_mean,axis=0)\n",
    "    \n",
    "    item_idx=np.array(range(tr_mat.shape[1]))\n",
    "    user_idx=np.array(range(tr_mat.shape[0]))\n",
    "    tr_mat_sampled=tr_mat.copy()\n",
    "    \n",
    "    #Selecting users with below average activity level \n",
    "    user_idx_to_sample=user_idx[mat_to_array(rating_count_user<mean_count_user,axis=1)]\n",
    "    #Computing the number of item sampled for the selected users \n",
    "    r_count_user=np.sum(tr_mat_sampled[user_idx_to_sample]!=0,axis=1)\n",
    "    no_sampled=mat_to_array(mean_count_user-r_count_user,axis=1)\n",
    "    \n",
    "    for i in range(len(user_idx_to_sample)):\n",
    "    \n",
    "        #generating a boolean array that select the missing entries for user u\n",
    "        u=user_idx_to_sample[i]\n",
    "        #selecting items that do not have any rating in the training set\n",
    "        miss_bool=mat_to_array(tr_mat_sampled[u]==0,axis=0)\n",
    "        miss_idx=item_idx[miss_bool]\n",
    "\n",
    "        if hard_gen==True:\n",
    "            #selecting the index of the items that do not have any rating in the training set\n",
    "            idx_to_exclude=item_idx[mat_to_array(rating_count_item==0,axis=0)]\n",
    "        else:\n",
    "            assert val_bool.shape==tr_mat.shape\n",
    "            assert test_bool.shape==tr_mat.shape\n",
    "            idx_to_exclude=item_idx[mat_to_array(np.logical_or(np.logical_or((val_bool[u]),(test_bool[u]),(rating_count_item==0)),(rating_count_item==0)),axis=0)]\n",
    "        #computing the indices of the pool of candidate sample while excluding the items that do not have any rating in the training set\n",
    "        miss_idx=miss_idx[np.isin(miss_idx,idx_to_exclude,invert=True)]\n",
    "        sampled_miss_idx=random.sample(range(len(miss_idx)),int(no_sampled[i]))\n",
    "        sampled_item_idx=miss_idx[sampled_miss_idx]\n",
    "        mean_sampled_item=item_mean[sampled_item_idx]\n",
    "        mean_sampled_user=users_mean[i]\n",
    "        if no_sampled[i]>=4:\n",
    "            alpha=0.8\n",
    "        else:\n",
    "            alpha=0.6\n",
    "        sampled_r=alpha*mean_sampled_item+(1-alpha)*mean_sampled_user\n",
    "        if np.sum(tr_mat_sampled[u,sampled_item_idx]!=0)!=0:\n",
    "            print(\"error1! at\"+str(i))\n",
    "            break\n",
    "        tr_mat_sampled[u,sampled_item_idx]=sampled_r\n",
    "        if np.sum(tr_mat_sampled[u]!=0,axis=1)<6:\n",
    "            print(\"error2! at\"+str(i))\n",
    "            break\n",
    "        #Checking if the sampling worked as intended\n",
    "    assert np.sum(tr_mat_sampled!=0,axis=1).min()==mean_count_user\n",
    "    assert tr_mat_sampled[val_bool].sum()==0\n",
    "    assert tr_mat_sampled[test_bool].sum()==0\n",
    "    return tr_mat_sampled\n",
    "\n"
   ]
  },
  {
   "cell_type": "code",
   "execution_count": 140,
   "metadata": {
    "scrolled": false
   },
   "outputs": [
    {
     "name": "stderr",
     "output_type": "stream",
     "text": [
      "C:\\Users\\helen\\AppData\\Local\\Continuum\\anaconda3\\lib\\site-packages\\ipykernel_launcher.py:13: RuntimeWarning: invalid value encountered in true_divide\n",
      "  del sys.path[0]\n"
     ]
    }
   ],
   "source": [
    "tr_mat=sp.load_npz(\"tr_explicit_nosampling_easy.npz\").todense()\n",
    "val_bool=sp.load_npz(\"val_bool_easy.npz\").todense()\n",
    "test_bool=sp.load_npz(\"test_bool_easy.npz\").todense()\n",
    "hard_gen=False\n",
    "tr_sampled_easy=sampling_unreported(tr_mat,val_bool,test_bool,hard_gen)"
   ]
  },
  {
   "cell_type": "code",
   "execution_count": 141,
   "metadata": {},
   "outputs": [],
   "source": [
    "scipy.sparse.save_npz(\"tr_explicit_sampled_easy.npz\",sp.coo_matrix(tr_sampled_easy))\n",
    "scipy.sparse.save_npz(\"tr_implicit_sampled_easy.npz\",sp.coo_matrix(binarise_mat(tr_sampled_easy)))\n",
    "scipy.sparse.save_npz(\"known_mask_sampled_easy.npz\",sp.coo_matrix(tr_sampled_easy!=0))"
   ]
  },
  {
   "cell_type": "code",
   "execution_count": 118,
   "metadata": {},
   "outputs": [],
   "source": [
    "tr_mat=sp.load_npz(\"tr_explicit_nosampling_hard.npz\").todense()\n"
   ]
  },
  {
   "cell_type": "code",
   "execution_count": 8,
   "metadata": {},
   "outputs": [
    {
     "data": {
      "text/plain": [
       "<matplotlib.axes._subplots.AxesSubplot at 0x191969f9048>"
      ]
     },
     "execution_count": 8,
     "metadata": {},
     "output_type": "execute_result"
    },
    {
     "data": {
      "image/png": "[encoded data removed]",
      "text/plain": [
       "<Figure size 432x288 with 1 Axes>"
      ]
     },
     "metadata": {
      "needs_background": "light"
     },
     "output_type": "display_data"
    }
   ],
   "source": [
    "sns.distplot(binarise_mat(tr_mat)[tr_mat!=0])"
   ]
  },
  {
   "cell_type": "code",
   "execution_count": 120,
   "metadata": {
    "scrolled": true
   },
   "outputs": [
    {
     "name": "stderr",
     "output_type": "stream",
     "text": [
      "C:\\Users\\helen\\AppData\\Local\\Continuum\\anaconda3\\lib\\site-packages\\ipykernel_launcher.py:13: RuntimeWarning: invalid value encountered in true_divide\n",
      "  del sys.path[0]\n"
     ]
    }
   ],
   "source": [
    "tr_mat=sp.load_npz(\"tr_explicit_nosampling_hard.npz\").todense()\n",
    "val_bool=False\n",
    "test_bool=False\n",
    "hard_gen=True\n",
    "tr_sampled_hard=sampling_unreported(tr_mat,val_bool,test_bool,hard_gen)"
   ]
  },
  {
   "cell_type": "code",
   "execution_count": 10,
   "metadata": {},
   "outputs": [
    {
     "data": {
      "text/plain": [
       "<matplotlib.axes._subplots.AxesSubplot at 0x1919dc14438>"
      ]
     },
     "execution_count": 10,
     "metadata": {},
     "output_type": "execute_result"
    },
    {
     "data": {
      "image/png": "[encoded data removed]",
      "text/plain": [
       "<Figure size 432x288 with 1 Axes>"
      ]
     },
     "metadata": {
      "needs_background": "light"
     },
     "output_type": "display_data"
    }
   ],
   "source": [
    "sns.distplot(binarise_mat(tr_sampled_hard)[tr_sampled_hard!=0])"
   ]
  },
  {
   "cell_type": "code",
   "execution_count": 122,
   "metadata": {},
   "outputs": [],
   "source": [
    "scipy.sparse.save_npz(\"known_mask_sampled_hard.npz\",sp.coo_matrix(tr_sampled_hard!=0))\n",
    "scipy.sparse.save_npz(\"tr_explicit_sampled_hard.npz\",sp.coo_matrix(tr_sampled_hard))\n",
    "scipy.sparse.save_npz(\"tr_implicit_sampled_hard.npz\",sp.coo_matrix(binarise_mat(tr_sampled_hard)))"
   ]
  },
  {
   "cell_type": "code",
   "execution_count": 123,
   "metadata": {},
   "outputs": [],
   "source": [
    "train=sp.load_npz(\"tr_implicit_sampled_hard.npz\").todense()\n",
    "mask=sp.load_npz(\"known_mask_sampled_hard.npz\").todense()"
   ]
  },
  {
   "cell_type": "code",
   "execution_count": 124,
   "metadata": {},
   "outputs": [
    {
     "data": {
      "text/plain": [
       "<matplotlib.axes._subplots.AxesSubplot at 0x1919788a2b0>"
      ]
     },
     "execution_count": 124,
     "metadata": {},
     "output_type": "execute_result"
    },
    {
     "data": {
      "image/png": "[encoded data removed]",
      "text/plain": [
       "<Figure size 432x288 with 1 Axes>"
      ]
     },
     "metadata": {
      "needs_background": "light"
     },
     "output_type": "display_data"
    }
   ],
   "source": [
    "sns.distplot(train[mask])"
   ]
  },
  {
   "cell_type": "markdown",
   "metadata": {},
   "source": [
    " ### Binarising the explicit ratings"
   ]
  },
  {
   "cell_type": "code",
   "execution_count": 181,
   "metadata": {},
   "outputs": [],
   "source": [
    "val_bool=sp.load_npz(\"val_bool_hard.npz\").todense()\n",
    "test_bool=sp.load_npz(\"test_bool_hard.npz\").todense()\n",
    "val_mat_hard=sp.load_npz(\"val_df_hard.npz\").todense()\n",
    "test_mat_hard=sp.load_npz(\"test_df_hard.npz\").todense()\n",
    "#val_entries=np.load(\"val_entries.npy\")\n",
    "#test_entries=np.load(\"test_entries.npy\")\n",
    "tr_sampled_coo=sp.load_npz(\"tr_sampled_hard_coo.npz\")"
   ]
  },
  {
   "cell_type": "code",
   "execution_count": 172,
   "metadata": {},
   "outputs": [],
   "source": [
    "tr_csr=tr_sampled_coo.tocsr()\n",
    "known_mask_csr=tr_csr!=0\n",
    "sp.save_npz(\"known_mask_hard_csr.npz\",known_mask_csr)"
   ]
  },
  {
   "cell_type": "code",
   "execution_count": 173,
   "metadata": {},
   "outputs": [],
   "source": [
    "val_hard_bin=np.zeros_like(val_mat_hard)"
   ]
  },
  {
   "cell_type": "code",
   "execution_count": 201,
   "metadata": {
    "scrolled": true
   },
   "outputs": [
    {
     "data": {
      "text/plain": [
       "matrix([[5., 4., 5., ..., 4., 5., 4.]])"
      ]
     },
     "execution_count": 201,
     "metadata": {},
     "output_type": "execute_result"
    }
   ],
   "source": [
    "tr_csr[tr_csr.todense()!=0]"
   ]
  },
  {
   "cell_type": "code",
   "execution_count": 177,
   "metadata": {},
   "outputs": [
    {
     "data": {
      "text/plain": [
       "matrix([[0., 1., 1., ..., 0., 1., 0.]])"
      ]
     },
     "execution_count": 177,
     "metadata": {},
     "output_type": "execute_result"
    }
   ],
   "source": [
    "val_hard_bin[val_bool_hard]"
   ]
  },
  {
   "cell_type": "code",
   "execution_count": 6,
   "metadata": {},
   "outputs": [],
   "source": [
    "def binarise_mat(mat):\n",
    "        bin_mat=np.zeros_like(mat)\n",
    "        bin_mat[mat>=4]=1\n",
    "        bin_mat[mat<4]=0\n",
    "        assert bin_mat[mat>=4].all()==1\n",
    "        assert bin_mat[mat<4].all()==0\n",
    "        return bin_mat"
   ]
  },
  {
   "cell_type": "code",
   "execution_count": 191,
   "metadata": {},
   "outputs": [],
   "source": [
    "val_bin_hard=binarise_mat(val_mat_hard)\n",
    "test_bin_hard=binarise_mat(test_mat_hard)"
   ]
  },
  {
   "cell_type": "code",
   "execution_count": 194,
   "metadata": {},
   "outputs": [],
   "source": [
    "sp.save_npz(\"val_hard_bin.npz\",sp.coo_matrix(val_bin_hard))\n",
    "sp.save_npz(\"test_hard_bin.npz\",sp.coo_matrix(test_bin_hard))"
   ]
  },
  {
   "cell_type": "code",
   "execution_count": 128,
   "metadata": {},
   "outputs": [],
   "source": [
    "def binarise(array,axis=0):\n",
    "    return np.matrixlib.matrix(list(map(lambda x:1 if x>=4 else 0 ,array)))"
   ]
  },
  {
   "cell_type": "code",
   "execution_count": 129,
   "metadata": {},
   "outputs": [
    {
     "data": {
      "text/plain": [
       "0"
      ]
     },
     "execution_count": 129,
     "metadata": {},
     "output_type": "execute_result"
    }
   ],
   "source": [
    "known_r_tr=mat_to_array(tr_csr[known_mask_csr],axis=0)\n",
    "r_tr_bin=binarise(known_r_tr)\n",
    "tr_csr[known_mask_csr]=r_tr_bin\n",
    "np.sum(tr_csr>1)"
   ]
  },
  {
   "cell_type": "code",
   "execution_count": 130,
   "metadata": {},
   "outputs": [],
   "source": [
    "tr_coo_bin=tr_csr.tocoo()"
   ]
  },
  {
   "cell_type": "code",
   "execution_count": 131,
   "metadata": {},
   "outputs": [],
   "source": [
    "sp.save_npz(\"tr_sampled_coo_hard_bin.npz\",tr_coo_bin)"
   ]
  },
  {
   "cell_type": "code",
   "execution_count": 340,
   "metadata": {},
   "outputs": [],
   "source": [
    "full_csr=full_coo.tocsr()"
   ]
  },
  {
   "cell_type": "code",
   "execution_count": 341,
   "metadata": {},
   "outputs": [],
   "source": [
    "val_bool_csr=sp.csr_matrix(val_bool)\n",
    "test_bool_csr=sp.csr_matrix(test_bool)\n",
    "val_entries_csr=sp.csr_matrix(val_entries)\n",
    "test_entries_csr=sp.csr_matrix(test_entries)"
   ]
  },
  {
   "cell_type": "code",
   "execution_count": 342,
   "metadata": {},
   "outputs": [
    {
     "data": {
      "text/plain": [
       "0"
      ]
     },
     "execution_count": 342,
     "metadata": {},
     "output_type": "execute_result"
    }
   ],
   "source": [
    "np.sum(full_csr[val_bool_csr]!=val_entries_csr)"
   ]
  },
  {
   "cell_type": "code",
   "execution_count": 343,
   "metadata": {},
   "outputs": [],
   "source": [
    "val_entries_bin=binarise(np.squeeze(val_entries,0))"
   ]
  },
  {
   "cell_type": "code",
   "execution_count": 344,
   "metadata": {},
   "outputs": [],
   "source": [
    "test_entries_bin=binarise(np.squeeze(test_entries,0))"
   ]
  },
  {
   "cell_type": "code",
   "execution_count": 345,
   "metadata": {},
   "outputs": [],
   "source": [
    "np.save(\"val_entries_bin.npy\",val_entries_bin)\n",
    "np.save(\"test_entries_bin.npy\",test_entries_bin)"
   ]
  },
  {
   "cell_type": "code",
   "execution_count": 346,
   "metadata": {},
   "outputs": [],
   "source": [
    "sp.save_npz(\"val_bool_csr.npz\",val_bool_csr)\n",
    "sp.save_npz(\"test_bool_csr.npz\",test_bool_csr)"
   ]
  }
 ],
 "metadata": {
  "kernelspec": {
   "display_name": "Python 3",
   "language": "python",
   "name": "python3"
  },
  "language_info": {
   "codemirror_mode": {
    "name": "ipython",
    "version": 3
   },
   "file_extension": ".py",
   "mimetype": "text/x-python",
   "name": "python",
   "nbconvert_exporter": "python",
   "pygments_lexer": "ipython3",
   "version": "3.6.5"
  }
 },
 "nbformat": 4,
 "nbformat_minor": 2
}
